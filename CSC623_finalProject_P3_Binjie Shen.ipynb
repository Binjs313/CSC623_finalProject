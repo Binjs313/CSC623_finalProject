{
 "cells": [
  {
   "cell_type": "code",
   "execution_count": 69,
   "id": "daily-participation",
   "metadata": {},
   "outputs": [],
   "source": [
    "import sqlite3\n",
    "import pandas as pd\n",
    "import re\n",
    "\n",
    "db_connect = sqlite3.connect('Binjie.db')\n",
    "\n",
    "cursor = db_connect.cursor()"
   ]
  },
  {
   "cell_type": "code",
   "execution_count": 70,
   "id": "extraordinary-scope",
   "metadata": {},
   "outputs": [],
   "source": [
    "def regex(e, item):\n",
    "    return re.match(e, item) is not None\n",
    "\n",
    "db_connect.create_function(\"REGEXP\", 2, regex)"
   ]
  },
  {
   "cell_type": "code",
   "execution_count": 71,
   "id": "colored-saskatchewan",
   "metadata": {},
   "outputs": [
    {
     "data": {
      "text/plain": [
       "<sqlite3.Cursor at 0x1eba03fe340>"
      ]
     },
     "execution_count": 71,
     "metadata": {},
     "output_type": "execute_result"
    }
   ],
   "source": [
    "## create Client table \n",
    "## tel format is U.S. phone number\n",
    "\n",
    "query = \"\"\"\n",
    "    CREATE TABLE Client (\n",
    "    clientNo INT PRIMARY KEY,\n",
    "    fName VARCHAR(255) NOT NULL,\n",
    "    lName VARCHAR(255) NOT NULL,\n",
    "    address VARCHAR(255) NOT NULL,\n",
    "    tel VARCHAR(20) NOT NULL CHECK (tel REGEXP '^[0-9]{10}$') \n",
    "    );\n",
    "\n",
    "\"\"\"\n",
    "\n",
    "cursor.execute(query)\n"
   ]
  },
  {
   "cell_type": "code",
   "execution_count": 72,
   "id": "alternative-olive",
   "metadata": {},
   "outputs": [
    {
     "data": {
      "text/plain": [
       "<sqlite3.Cursor at 0x1eba03fe340>"
      ]
     },
     "execution_count": 72,
     "metadata": {},
     "output_type": "execute_result"
    }
   ],
   "source": [
    "## create Employee table\n",
    "## tel format is U.S. phone number\n",
    "## minimum salary per month is 1200\n",
    "\n",
    "query = \"\"\"\n",
    "    CREATE TABLE Employee (\n",
    "    staffNo INT PRIMARY KEY,\n",
    "    fName VARCHAR(255) NOT NULL,\n",
    "    lName VARCHAR(255) NOT NULL,\n",
    "    address VARCHAR(255) NOT NULL,\n",
    "    salary DECIMAL(10,2) NOT NULL CHECK (salary > 1200),\n",
    "    tel VARCHAR(20) NOT NULL CHECK (tel REGEXP '^[0-9]{10}$')\n",
    "    );\n",
    "\n",
    "\"\"\"\n",
    "\n",
    "cursor.execute(query)\n"
   ]
  },
  {
   "cell_type": "code",
   "execution_count": 73,
   "id": "ancient-appliance",
   "metadata": {},
   "outputs": [
    {
     "data": {
      "text/plain": [
       "<sqlite3.Cursor at 0x1eba03fe340>"
      ]
     },
     "execution_count": 73,
     "metadata": {},
     "output_type": "execute_result"
    }
   ],
   "source": [
    "## create Requirement table\n",
    "## startDate should greater than current date\n",
    "## duration is between 2 to 8 hours\n",
    "\n",
    "query = \"\"\"\n",
    "    CREATE TABLE Requirement (\n",
    "    reqID INT PRIMARY KEY,\n",
    "    startDate DATE NOT NULL CHECK (startDate > CURRENT_DATE),\n",
    "    startTime TIME NOT NULL,\n",
    "    duration INT NOT NULL CHECK (duration BETWEEN 2 AND 8),\n",
    "    comment TEXT,\n",
    "    clientNo INT NOT NULL,\n",
    "    FOREIGN KEY (clientNo) REFERENCES Client(clientNo)\n",
    "    );\n",
    "\n",
    "\"\"\"\n",
    "cursor.execute(query)"
   ]
  },
  {
   "cell_type": "code",
   "execution_count": 74,
   "id": "mounted-creativity",
   "metadata": {},
   "outputs": [
    {
     "data": {
      "text/plain": [
       "<sqlite3.Cursor at 0x1eba03fe340>"
      ]
     },
     "execution_count": 74,
     "metadata": {},
     "output_type": "execute_result"
    }
   ],
   "source": [
    "## create Equipment table\n",
    "## The cost should be a positive number\n",
    "query = \"\"\"\n",
    "    CREATE TABLE Equipment (\n",
    "    equipID INT PRIMARY KEY,\n",
    "    description TEXT NOT NULL,\n",
    "    usage TEXT,\n",
    "    cost DECIMAL(10,2) NOT NULL CHECK (cost > 0)\n",
    "    );\n",
    "\n",
    "\"\"\"\n",
    "cursor.execute(query)"
   ]
  },
  {
   "cell_type": "code",
   "execution_count": 75,
   "id": "reverse-bishop",
   "metadata": {},
   "outputs": [
    {
     "data": {
      "text/plain": [
       "<sqlite3.Cursor at 0x1eba03fe340>"
      ]
     },
     "execution_count": 75,
     "metadata": {},
     "output_type": "execute_result"
    }
   ],
   "source": [
    "## create Assignment table\n",
    "query = \"\"\"\n",
    "    CREATE TABLE Assignment (\n",
    "    staffNo INT,\n",
    "    reqID INT,\n",
    "    PRIMARY KEY (staffNo, reqID),\n",
    "    FOREIGN KEY (staffNo) REFERENCES Employee(staffNo),\n",
    "    FOREIGN KEY (reqID) REFERENCES Requirement(reqID)\n",
    "    );\n",
    "\n",
    "\"\"\"\n",
    "cursor.execute(query)"
   ]
  },
  {
   "cell_type": "code",
   "execution_count": 76,
   "id": "arbitrary-cruise",
   "metadata": {},
   "outputs": [
    {
     "data": {
      "text/plain": [
       "<sqlite3.Cursor at 0x1eba03fe340>"
      ]
     },
     "execution_count": 76,
     "metadata": {},
     "output_type": "execute_result"
    }
   ],
   "source": [
    "## create Usage table\n",
    "query = \"\"\"\n",
    "    CREATE TABLE Usage (\n",
    "    equipID INT,\n",
    "    reqID INT,\n",
    "    PRIMARY KEY (equipID, reqID),\n",
    "    FOREIGN KEY (equipID) REFERENCES Equipment(equipID),\n",
    "    FOREIGN KEY (reqID) REFERENCES Requirement(reqID)\n",
    "    );\n",
    "\n",
    "\"\"\"\n",
    "cursor.execute(query)"
   ]
  },
  {
   "cell_type": "code",
   "execution_count": 77,
   "id": "polyphonic-motivation",
   "metadata": {},
   "outputs": [
    {
     "data": {
      "text/plain": [
       "<sqlite3.Cursor at 0x1eba03fe340>"
      ]
     },
     "execution_count": 77,
     "metadata": {},
     "output_type": "execute_result"
    }
   ],
   "source": [
    "## create a trigger to ensure employee is not assigned to a past requirement\n",
    "query = \"\"\"\n",
    "    CREATE TRIGGER check_assignment\n",
    "    BEFORE INSERT ON Assignment\n",
    "    FOR EACH ROW\n",
    "    BEGIN\n",
    "        SELECT\n",
    "        CASE\n",
    "            WHEN (SELECT startDate FROM Requirement WHERE reqID = NEW.reqID) < date('now') OR\n",
    "                 ((SELECT startDate FROM Requirement WHERE reqID = NEW.reqID) = date('now') AND\n",
    "                  (SELECT startTime FROM Requirement WHERE reqID = NEW.reqID) < time('now')) THEN\n",
    "                RAISE(ABORT, 'Cannot assign employee to a past requirement')\n",
    "        END;\n",
    "    END;\n",
    "\n",
    "\"\"\"\n",
    "cursor.execute(query)"
   ]
  },
  {
   "cell_type": "code",
   "execution_count": 78,
   "id": "helpful-pointer",
   "metadata": {},
   "outputs": [
    {
     "data": {
      "text/plain": [
       "<sqlite3.Cursor at 0x1eba03fe340>"
      ]
     },
     "execution_count": 78,
     "metadata": {},
     "output_type": "execute_result"
    }
   ],
   "source": [
    "query = \"\"\"\n",
    "    INSERT INTO Client (clientNo, fName, lName, address, tel) VALUES\n",
    "    (1, 'Binjie', 'Shen', '123 7th Ave, Miami, FL 33132', '3051234567'),\n",
    "    (2, 'John', 'Wick', '456 8th Ave , Miami, FL 33176', '3052345678'),\n",
    "    (3, 'Bill', 'Gates', '789 10th Ave, Orlando, FL 31236', '6811234567'),\n",
    "    (4, 'Eva', 'Green', '101 6th Ave, Huntington, WV 12345', '9631234567'),\n",
    "    (5, 'Gal', 'Gadot', '202 9th Ave, New York, NY 23456', '5671234567');\n",
    "\"\"\"\n",
    "cursor.execute(query)"
   ]
  },
  {
   "cell_type": "code",
   "execution_count": 79,
   "id": "mechanical-supervisor",
   "metadata": {},
   "outputs": [
    {
     "name": "stdout",
     "output_type": "stream",
     "text": [
      "   clientNo   fName  lName                            address         tel\n",
      "0         1  Binjie   Shen       123 7th Ave, Miami, FL 33132  3051234567\n",
      "1         2    John   Wick      456 8th Ave , Miami, FL 33176  3052345678\n",
      "2         3    Bill  Gates    789 10th Ave, Orlando, FL 31236  6811234567\n",
      "3         4     Eva  Green  101 6th Ave, Huntington, WV 12345  9631234567\n",
      "4         5     Gal  Gadot    202 9th Ave, New York, NY 23456  5671234567\n",
      "Index(['clientNo', 'fName', 'lName', 'address', 'tel'], dtype='object')\n"
     ]
    }
   ],
   "source": [
    "query = \"\"\"\n",
    "    SELECT *\n",
    "    FROM Client\n",
    "    \"\"\"\n",
    "cursor.execute(query)\n",
    "\n",
    "column_names = [row[0] for row in cursor.description]\n",
    "\n",
    "table_data = cursor.fetchall()\n",
    "df = pd.DataFrame(table_data, columns=column_names)\n",
    "\n",
    "print(df)\n",
    "print(df.columns)"
   ]
  },
  {
   "cell_type": "code",
   "execution_count": 80,
   "id": "voluntary-carter",
   "metadata": {},
   "outputs": [
    {
     "data": {
      "text/plain": [
       "<sqlite3.Cursor at 0x1eba03fe340>"
      ]
     },
     "execution_count": 80,
     "metadata": {},
     "output_type": "execute_result"
    }
   ],
   "source": [
    "query = \"\"\"\n",
    "    INSERT INTO Employee (staffNo, fName, lName, address, salary, tel) VALUES\n",
    "    (1, 'Mark', 'Taylor', '111 SW 9th Ct, Miami, FL 33125', 3000, '5556789012'),\n",
    "    (2, 'Linda', 'Wilson', '222 8th Ct, Miami, FL 12345', 2000, '5557890123'),\n",
    "    (3, 'Steve', 'Martin', '333 SW St, Doral, FL 33178 ', 2500, '5568901234'),\n",
    "    (4, 'Angela', 'White', '444 Cherry St, Tamarac, FL 15619', 1900, '5559212345'),\n",
    "    (5, 'Tom', 'Jones', '555 Aspen St, Delray Beach, FL 33999', 2600, '1550123456'),\n",
    "    (6, 'Mary', 'Garcia', '666 5th Ave, Delray Beach, FL 33678', 2700, '3550123456'),\n",
    "    (7, 'John', 'Jackson', '777 Cortez Ct, Delray Beach, FL 33444', 2750, '9550123456'),\n",
    "    (8, 'William', 'Thomas', '888 Via Leonardo, Lake Worth, FL 33467', 3120, '5150123456');\n",
    "\n",
    "\"\"\"\n",
    "cursor.execute(query)"
   ]
  },
  {
   "cell_type": "code",
   "execution_count": 81,
   "id": "balanced-detroit",
   "metadata": {},
   "outputs": [
    {
     "name": "stdout",
     "output_type": "stream",
     "text": [
      "   staffNo    fName    lName                                 address  salary  \\\n",
      "0        1     Mark   Taylor          111 SW 9th Ct, Miami, FL 33125    3000   \n",
      "1        2    Linda   Wilson             222 8th Ct, Miami, FL 12345    2000   \n",
      "2        3    Steve   Martin             333 SW St, Doral, FL 33178     2500   \n",
      "3        4   Angela    White        444 Cherry St, Tamarac, FL 15619    1900   \n",
      "4        5      Tom    Jones    555 Aspen St, Delray Beach, FL 33999    2600   \n",
      "5        6     Mary   Garcia     666 5th Ave, Delray Beach, FL 33678    2700   \n",
      "6        7     John  Jackson   777 Cortez Ct, Delray Beach, FL 33444    2750   \n",
      "7        8  William   Thomas  888 Via Leonardo, Lake Worth, FL 33467    3120   \n",
      "\n",
      "          tel  \n",
      "0  5556789012  \n",
      "1  5557890123  \n",
      "2  5568901234  \n",
      "3  5559212345  \n",
      "4  1550123456  \n",
      "5  3550123456  \n",
      "6  9550123456  \n",
      "7  5150123456  \n",
      "Index(['staffNo', 'fName', 'lName', 'address', 'salary', 'tel'], dtype='object')\n"
     ]
    }
   ],
   "source": [
    "query = \"\"\"\n",
    "    SELECT *\n",
    "    FROM Employee\n",
    "    \"\"\"\n",
    "cursor.execute(query)\n",
    "\n",
    "column_names = [row[0] for row in cursor.description]\n",
    "\n",
    "table_data = cursor.fetchall()\n",
    "df = pd.DataFrame(table_data, columns=column_names)\n",
    "\n",
    "print(df)\n",
    "print(df.columns)"
   ]
  },
  {
   "cell_type": "code",
   "execution_count": 82,
   "id": "declared-national",
   "metadata": {},
   "outputs": [
    {
     "data": {
      "text/plain": [
       "<sqlite3.Cursor at 0x1eba03fe340>"
      ]
     },
     "execution_count": 82,
     "metadata": {},
     "output_type": "execute_result"
    }
   ],
   "source": [
    "query = \"\"\"\n",
    "    INSERT INTO Requirement (reqID, startDate, startTime, duration, comment, clientNo) VALUES\n",
    "    (1, '2023-12-10', '10:00', 2, 'Corridor', 1),\n",
    "    (2, '2023-12-11', '14:00', 5, 'Hall', 2),\n",
    "    (3, '2023-12-12', '09:00', 3, 'Meeting room', 3),\n",
    "    (4, '2023-12-13', '13:00', 4, 'Bathroom', 4),\n",
    "    (5, '2023-12-14', '15:00', 3, 'Pantry', 5);\n",
    "\n",
    "\"\"\"\n",
    "cursor.execute(query)"
   ]
  },
  {
   "cell_type": "code",
   "execution_count": 83,
   "id": "administrative-martial",
   "metadata": {},
   "outputs": [
    {
     "name": "stdout",
     "output_type": "stream",
     "text": [
      "   reqID   startDate startTime  duration       comment  clientNo\n",
      "0      1  2023-12-10     10:00         2      Corridor         1\n",
      "1      2  2023-12-11     14:00         5          Hall         2\n",
      "2      3  2023-12-12     09:00         3  Meeting room         3\n",
      "3      4  2023-12-13     13:00         4      Bathroom         4\n",
      "4      5  2023-12-14     15:00         3        Pantry         5\n",
      "Index(['reqID', 'startDate', 'startTime', 'duration', 'comment', 'clientNo'], dtype='object')\n"
     ]
    }
   ],
   "source": [
    "query = \"\"\"\n",
    "    SELECT *\n",
    "    FROM Requirement\n",
    "    \"\"\"\n",
    "cursor.execute(query)\n",
    "\n",
    "column_names = [row[0] for row in cursor.description]\n",
    "\n",
    "table_data = cursor.fetchall()\n",
    "df = pd.DataFrame(table_data, columns=column_names)\n",
    "\n",
    "print(df)\n",
    "print(df.columns)"
   ]
  },
  {
   "cell_type": "code",
   "execution_count": 85,
   "id": "experienced-furniture",
   "metadata": {},
   "outputs": [
    {
     "data": {
      "text/plain": [
       "<sqlite3.Cursor at 0x1eba03fe340>"
      ]
     },
     "execution_count": 85,
     "metadata": {},
     "output_type": "execute_result"
    }
   ],
   "source": [
    "query = \"\"\"\n",
    "    INSERT INTO Equipment (equipID, description, usage, cost) VALUES\n",
    "    (1, 'Vacuum', 'Clean dust', 1000),\n",
    "    (2, 'Sponge mop', 'Clean floor', 30),\n",
    "    (3, 'Squeegee', 'Clean glass', 20),\n",
    "    (4, 'Warning sign', 'Warn people that the floor is wet', 10),\n",
    "    (5, 'Mop', '', 15),\n",
    "    (6, 'Toilet brush', 'Clean toilet', 10),\n",
    "    (7, 'Plunger', 'Clean toilet', 5);\n",
    "\"\"\"\n",
    "cursor.execute(query)"
   ]
  },
  {
   "cell_type": "code",
   "execution_count": 86,
   "id": "stuffed-virginia",
   "metadata": {},
   "outputs": [
    {
     "name": "stdout",
     "output_type": "stream",
     "text": [
      "   equipID   description                              usage  cost\n",
      "0        1        Vacuum                         Clean dust  1000\n",
      "1        2    Sponge mop                        Clean floor    30\n",
      "2        3      Squeegee                        Clean glass    20\n",
      "3        4  Warning sign  Warn people that the floor is wet    10\n",
      "4        5           Mop                                       15\n",
      "5        6  Toilet brush                       Clean toilet    10\n",
      "6        7       Plunger                       Clean toilet     5\n",
      "Index(['equipID', 'description', 'usage', 'cost'], dtype='object')\n"
     ]
    }
   ],
   "source": [
    "query = \"\"\"\n",
    "    SELECT *\n",
    "    FROM Equipment\n",
    "    \"\"\"\n",
    "cursor.execute(query)\n",
    "\n",
    "column_names = [row[0] for row in cursor.description]\n",
    "\n",
    "table_data = cursor.fetchall()\n",
    "df = pd.DataFrame(table_data, columns=column_names)\n",
    "\n",
    "print(df)\n",
    "print(df.columns)"
   ]
  },
  {
   "cell_type": "code",
   "execution_count": 88,
   "id": "finite-prime",
   "metadata": {},
   "outputs": [
    {
     "data": {
      "text/plain": [
       "<sqlite3.Cursor at 0x1eba03fe340>"
      ]
     },
     "execution_count": 88,
     "metadata": {},
     "output_type": "execute_result"
    }
   ],
   "source": [
    "query = \"\"\"\n",
    "    INSERT INTO Assignment (staffNo, reqID) VALUES\n",
    "    (1, 1),\n",
    "    (2, 2),\n",
    "    (3, 3),\n",
    "    (4, 4),\n",
    "    (5, 5),\n",
    "    (6, 1),\n",
    "    (7, 2),\n",
    "    (8, 2);\n",
    "\"\"\"\n",
    "cursor.execute(query)"
   ]
  },
  {
   "cell_type": "code",
   "execution_count": 89,
   "id": "unsigned-exchange",
   "metadata": {},
   "outputs": [
    {
     "name": "stdout",
     "output_type": "stream",
     "text": [
      "   staffNo  reqID\n",
      "0        1      1\n",
      "1        2      2\n",
      "2        3      3\n",
      "3        4      4\n",
      "4        5      5\n",
      "5        6      1\n",
      "6        7      2\n",
      "7        8      2\n",
      "Index(['staffNo', 'reqID'], dtype='object')\n"
     ]
    }
   ],
   "source": [
    "query = \"\"\"\n",
    "    SELECT *\n",
    "    FROM Assignment\n",
    "    \"\"\"\n",
    "cursor.execute(query)\n",
    "\n",
    "column_names = [row[0] for row in cursor.description]\n",
    "\n",
    "table_data = cursor.fetchall()\n",
    "df = pd.DataFrame(table_data, columns=column_names)\n",
    "\n",
    "print(df)\n",
    "print(df.columns)"
   ]
  },
  {
   "cell_type": "code",
   "execution_count": 91,
   "id": "anticipated-strap",
   "metadata": {},
   "outputs": [
    {
     "data": {
      "text/plain": [
       "<sqlite3.Cursor at 0x1eba03fe340>"
      ]
     },
     "execution_count": 91,
     "metadata": {},
     "output_type": "execute_result"
    }
   ],
   "source": [
    "query = \"\"\"\n",
    "    INSERT INTO Usage (equipID, reqID) VALUES\n",
    "    (1, 1),\n",
    "    (2, 2),\n",
    "    (3, 3),\n",
    "    (4, 2),\n",
    "    (5, 5),\n",
    "    (6, 4),\n",
    "    (7, 4);   \n",
    "\"\"\"\n",
    "cursor.execute(query)"
   ]
  },
  {
   "cell_type": "code",
   "execution_count": 92,
   "id": "ranking-watson",
   "metadata": {},
   "outputs": [
    {
     "name": "stdout",
     "output_type": "stream",
     "text": [
      "   equipID  reqID\n",
      "0        1      1\n",
      "1        2      2\n",
      "2        3      3\n",
      "3        4      2\n",
      "4        5      5\n",
      "5        6      4\n",
      "6        7      4\n",
      "Index(['equipID', 'reqID'], dtype='object')\n"
     ]
    }
   ],
   "source": [
    "query = \"\"\"\n",
    "    SELECT *\n",
    "    FROM Usage\n",
    "    \"\"\"\n",
    "cursor.execute(query)\n",
    "\n",
    "column_names = [row[0] for row in cursor.description]\n",
    "\n",
    "table_data = cursor.fetchall()\n",
    "df = pd.DataFrame(table_data, columns=column_names)\n",
    "\n",
    "print(df)\n",
    "print(df.columns)"
   ]
  },
  {
   "cell_type": "code",
   "execution_count": 93,
   "id": "knowing-reservoir",
   "metadata": {},
   "outputs": [
    {
     "data": {
      "text/plain": [
       "<sqlite3.Cursor at 0x1eba03fe340>"
      ]
     },
     "execution_count": 93,
     "metadata": {},
     "output_type": "execute_result"
    }
   ],
   "source": [
    "## Display all the elements within the requirements of the task that requires more than one piece of equipment.\n",
    "query = \"\"\"\n",
    "   SELECT R.* \n",
    "    FROM Requirement R\n",
    "    JOIN (\n",
    "        SELECT reqID \n",
    "        FROM Usage \n",
    "        GROUP BY reqID \n",
    "        HAVING COUNT(equipID) > 1\n",
    "    ) AS U ON R.reqID = U.reqID \n",
    "\"\"\"\n",
    "cursor.execute(query)"
   ]
  },
  {
   "cell_type": "code",
   "execution_count": 94,
   "id": "appreciated-lender",
   "metadata": {},
   "outputs": [
    {
     "name": "stdout",
     "output_type": "stream",
     "text": [
      "   reqID   startDate startTime  duration   comment  clientNo\n",
      "0      2  2023-12-11     14:00         5      Hall         2\n",
      "1      4  2023-12-13     13:00         4  Bathroom         4\n",
      "Index(['reqID', 'startDate', 'startTime', 'duration', 'comment', 'clientNo'], dtype='object')\n"
     ]
    }
   ],
   "source": [
    "column_names = [row[0] for row in cursor.description]\n",
    "\n",
    "table_data = cursor.fetchall()\n",
    "df = pd.DataFrame(table_data, columns=column_names)\n",
    "\n",
    "print(df)\n",
    "print(df.columns)"
   ]
  },
  {
   "cell_type": "code",
   "execution_count": 95,
   "id": "accurate-discovery",
   "metadata": {},
   "outputs": [
    {
     "data": {
      "text/plain": [
       "<sqlite3.Cursor at 0x1eba03fe340>"
      ]
     },
     "execution_count": 95,
     "metadata": {},
     "output_type": "execute_result"
    }
   ],
   "source": [
    "## Display all the elements within the requirements of the task that requires more than one employee.\n",
    "query = \"\"\"\n",
    "   SELECT R.* \n",
    "    FROM Requirement R\n",
    "    JOIN (\n",
    "        SELECT reqID \n",
    "        FROM Assignment \n",
    "        GROUP BY reqID \n",
    "        HAVING COUNT(staffNo) > 1\n",
    "    ) AS A ON R.reqID = A.reqID\n",
    "\"\"\"\n",
    "cursor.execute(query)"
   ]
  },
  {
   "cell_type": "code",
   "execution_count": 96,
   "id": "dated-pioneer",
   "metadata": {},
   "outputs": [
    {
     "name": "stdout",
     "output_type": "stream",
     "text": [
      "   reqID   startDate startTime  duration   comment  clientNo\n",
      "0      1  2023-12-10     10:00         2  Corridor         1\n",
      "1      2  2023-12-11     14:00         5      Hall         2\n",
      "Index(['reqID', 'startDate', 'startTime', 'duration', 'comment', 'clientNo'], dtype='object')\n"
     ]
    }
   ],
   "source": [
    "column_names = [row[0] for row in cursor.description]\n",
    "\n",
    "table_data = cursor.fetchall()\n",
    "df = pd.DataFrame(table_data, columns=column_names)\n",
    "\n",
    "print(df)\n",
    "print(df.columns)"
   ]
  },
  {
   "cell_type": "code",
   "execution_count": 97,
   "id": "challenging-evidence",
   "metadata": {},
   "outputs": [
    {
     "data": {
      "text/plain": [
       "<sqlite3.Cursor at 0x1eba03fe340>"
      ]
     },
     "execution_count": 97,
     "metadata": {},
     "output_type": "execute_result"
    }
   ],
   "source": [
    "## Display all the elements of the requirement whose start time is in the afternoon.\n",
    "query = \"\"\"\n",
    "   SELECT * FROM Requirement\n",
    "    WHERE substr(startTime, 1, 2) >= '12'\n",
    "\"\"\"\n",
    "cursor.execute(query)"
   ]
  },
  {
   "cell_type": "code",
   "execution_count": 98,
   "id": "black-clock",
   "metadata": {},
   "outputs": [
    {
     "name": "stdout",
     "output_type": "stream",
     "text": [
      "   reqID   startDate startTime  duration   comment  clientNo\n",
      "0      2  2023-12-11     14:00         5      Hall         2\n",
      "1      4  2023-12-13     13:00         4  Bathroom         4\n",
      "2      5  2023-12-14     15:00         3    Pantry         5\n",
      "Index(['reqID', 'startDate', 'startTime', 'duration', 'comment', 'clientNo'], dtype='object')\n"
     ]
    }
   ],
   "source": [
    "column_names = [row[0] for row in cursor.description]\n",
    "\n",
    "table_data = cursor.fetchall()\n",
    "df = pd.DataFrame(table_data, columns=column_names)\n",
    "\n",
    "print(df)\n",
    "print(df.columns)"
   ]
  },
  {
   "cell_type": "code",
   "execution_count": 99,
   "id": "authentic-force",
   "metadata": {},
   "outputs": [
    {
     "data": {
      "text/plain": [
       "<sqlite3.Cursor at 0x1eba03fe340>"
      ]
     },
     "execution_count": 99,
     "metadata": {},
     "output_type": "execute_result"
    }
   ],
   "source": [
    "## Display all the elements of the employee whose job is in the morning.\n",
    "query = \"\"\"\n",
    "   SELECT E.*\n",
    "    FROM Employee E\n",
    "    JOIN Assignment A ON E.staffNo = A.staffNo\n",
    "    JOIN Requirement R ON A.reqID = R.reqID\n",
    "    WHERE substr(R.startTime, 1, 2) < '12'\n",
    "\"\"\"\n",
    "cursor.execute(query)"
   ]
  },
  {
   "cell_type": "code",
   "execution_count": 100,
   "id": "wicked-recommendation",
   "metadata": {},
   "outputs": [
    {
     "name": "stdout",
     "output_type": "stream",
     "text": [
      "   staffNo  fName   lName                              address  salary  \\\n",
      "0        1   Mark  Taylor       111 SW 9th Ct, Miami, FL 33125    3000   \n",
      "1        3  Steve  Martin          333 SW St, Doral, FL 33178     2500   \n",
      "2        6   Mary  Garcia  666 5th Ave, Delray Beach, FL 33678    2700   \n",
      "\n",
      "          tel  \n",
      "0  5556789012  \n",
      "1  5568901234  \n",
      "2  3550123456  \n",
      "Index(['staffNo', 'fName', 'lName', 'address', 'salary', 'tel'], dtype='object')\n"
     ]
    }
   ],
   "source": [
    "column_names = [row[0] for row in cursor.description]\n",
    "\n",
    "table_data = cursor.fetchall()\n",
    "df = pd.DataFrame(table_data, columns=column_names)\n",
    "\n",
    "print(df)\n",
    "print(df.columns)"
   ]
  },
  {
   "cell_type": "code",
   "execution_count": 101,
   "id": "internal-pantyhose",
   "metadata": {},
   "outputs": [
    {
     "data": {
      "text/plain": [
       "<sqlite3.Cursor at 0x1eba03fe340>"
      ]
     },
     "execution_count": 101,
     "metadata": {},
     "output_type": "execute_result"
    }
   ],
   "source": [
    "## Display the description of the equipment used in the requirement labeled with the comment 'Bathroom'.\n",
    "query = \"\"\"\n",
    "    SELECT E.description\n",
    "    FROM Equipment E\n",
    "    JOIN Usage U ON E.equipID = U.equipID\n",
    "    JOIN Requirement R ON U.reqID = R.reqID\n",
    "    WHERE R.comment = 'Bathroom'\n",
    "\"\"\"\n",
    "cursor.execute(query)"
   ]
  },
  {
   "cell_type": "code",
   "execution_count": 102,
   "id": "natural-smith",
   "metadata": {},
   "outputs": [
    {
     "name": "stdout",
     "output_type": "stream",
     "text": [
      "    description\n",
      "0  Toilet brush\n",
      "1       Plunger\n",
      "Index(['description'], dtype='object')\n"
     ]
    }
   ],
   "source": [
    "column_names = [row[0] for row in cursor.description]\n",
    "\n",
    "table_data = cursor.fetchall()\n",
    "df = pd.DataFrame(table_data, columns=column_names)\n",
    "\n",
    "print(df)\n",
    "print(df.columns)"
   ]
  },
  {
   "cell_type": "code",
   "execution_count": 103,
   "id": "divided-national",
   "metadata": {},
   "outputs": [],
   "source": [
    "db_connect.commit()"
   ]
  },
  {
   "cell_type": "code",
   "execution_count": 104,
   "id": "constant-joshua",
   "metadata": {},
   "outputs": [],
   "source": [
    "db_connect.close()"
   ]
  },
  {
   "cell_type": "code",
   "execution_count": null,
   "id": "native-valentine",
   "metadata": {},
   "outputs": [],
   "source": []
  }
 ],
 "metadata": {
  "kernelspec": {
   "display_name": "Python 3",
   "language": "python",
   "name": "python3"
  },
  "language_info": {
   "codemirror_mode": {
    "name": "ipython",
    "version": 3
   },
   "file_extension": ".py",
   "mimetype": "text/x-python",
   "name": "python",
   "nbconvert_exporter": "python",
   "pygments_lexer": "ipython3",
   "version": "3.9.1"
  }
 },
 "nbformat": 4,
 "nbformat_minor": 5
}
